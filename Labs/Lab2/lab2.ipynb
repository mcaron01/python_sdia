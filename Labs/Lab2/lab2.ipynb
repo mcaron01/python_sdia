{
   "cells": [
      {
         "cell_type": "markdown",
         "metadata": {},
         "source": [
            "# Practical session 2 - Practise with classic libraries\n",
            "\n",
            "Students (pair):\n",
            "- [Mathieu Caron]([link](https://github.com/mcaron01/python_sdia))\n",
            "- [Maxime Bacquet]([link](https://github.com/username2))"
         ]
      },
      {
         "cell_type": "markdown",
         "metadata": {},
         "source": [
            "**Useful references for this lab**:\n",
            "\n",
            "[1] `numpy`: [lecture notes (1.4.1-1.4.2)](https://scipy-lectures.org/intro/numpy/index.html) and [documentation](https://numpy.org/doc/stable/)\n",
            "\n",
            "[2] `pandas`: [documentation](https://pandas.pydata.org/docs/getting_started/index.html), [quick tutorial](https://pandas.pydata.org/pandas-docs/version/0.15/10min.html)\n",
            "\n",
            "[3] `matplotlib`: [lecture notes (1.5)](https://scipy-lectures.org/intro/matplotlib/index.html) and [documentation](https://matplotlib.org/)\n",
            "\n",
            "[4] `h5py`: [quick start guide](http://docs.h5py.org/en/stable/quick.html#quick)"
         ]
      },
      {
         "cell_type": "markdown",
         "metadata": {},
         "source": [
            "## <a name=\"content\">Contents</a>\n",
            "- [Exercise 1: Computing basic statistics](#ex1)\n",
            "- [Exercise 2: Random variables and histograms](#ex2)\n",
            "- [Exercise 3: Discrete isotropic total variation](#ex3)\n",
            "---"
         ]
      },
      {
         "cell_type": "code",
         "execution_count": 1,
         "metadata": {},
         "outputs": [],
         "source": [
            "%load_ext autoreload\n",
            "%autoreload 2"
         ]
      },
      {
         "cell_type": "markdown",
         "metadata": {},
         "source": [
            "---\n",
            "## <a name=\"ex1\">Exercise 1: Random variables and histograms</a>\n",
            "\n",
            "In this exercise, we are interested in generating samples from the Gamma distribution $\\mathcal{G}(\\alpha,\\beta)$, of probability density function (pdf)\n",
            "\n",
            "\\begin{equation}\n",
            "    p(x) = \\frac{\\beta^\\alpha}{\\Gamma(\\alpha)} x^{\\alpha-1} \\exp(-\\beta x) \\mathbb{1}_{\\mathbb{R}_+^*}(x),\n",
            "\\end{equation}\n",
            "\n",
            "and displaying their histogram. In the following, we consider $(\\alpha, \\beta) = (9, 2)$.\n",
            "\n",
            "1\\. Set the random seed to a fixed value for reproducibility, and biefly check your instruction works as intended.\n",
            "> Hint: you may take a look at the following pages: [random module](https://numpy.org/doc/stable/reference/random/index.html?highlight=random#module-numpy.random), [random generator](https://numpy.org/doc/stable/reference/random/generator.html)."
         ]
      },
      {
         "cell_type": "markdown",
         "metadata": {},
         "source": [
            "**Answer**:"
         ]
      },
      {
         "cell_type": "code",
         "execution_count": 2,
         "metadata": {},
         "outputs": [
            {
               "name": "stdout",
               "output_type": "stream",
               "text": [
                  "Nombres générés : [0.78742269 0.83366933 0.54790446]\n"
               ]
            }
         ],
         "source": [
            "import numpy as np\n",
            "alpha, beta = 9, 2\n",
            "#Définition de la graine aléatoire à une valeur fixe (50)\n",
            "rng = np.random.default_rng(50)\n",
            "#Génération de 5 nombres en utilisant la graine aléatoire définie plus haut\n",
            "ints = rng.random(3)\n",
            "print(\"Nombres générés :\" , ints)"
         ]
      },
      {
         "cell_type": "markdown",
         "metadata": {},
         "source": [
            "2\\. Generate $\\approx 10^5$ samples in a vector. Save the vector in a file, `samples.hdf5` or `samples.npy`.\n",
            "> Warning / hint: \n",
            "> - take a careful look at the [documentation](https://numpy.org/doc/stable/reference/random/generated/numpy.random.gamma.html?highlight=gamma#numpy.random.gamma) (multiple conventions exist for the definition of the pdf underlying the distribution...);\n",
            "> - to save data in a `npy` file, take a look at the example reported in the [Numpy documentation](https://numpy.org/doc/stable/reference/generated/numpy.save.html);\n",
            "> - to save data in a `.h5` file, take a quick look at the [documentation here](https://docs.h5py.org/en/stable/quick.html#quick)."
         ]
      },
      {
         "cell_type": "markdown",
         "metadata": {},
         "source": [
            "**Answer**:"
         ]
      },
      {
         "cell_type": "code",
         "execution_count": 3,
         "metadata": {},
         "outputs": [
            {
               "name": "stdout",
               "output_type": "stream",
               "text": [
                  "distribution : [4.3678835  5.18258315 4.15196591 ... 7.60203484 2.59567322 3.48606457]\n",
                  "La taille du vecteur représentant la distribution est de 100000\n"
               ]
            }
         ],
         "source": [
            "#Génération des échantillons\n",
            "distribution = np.random.gamma(alpha, 1/beta, 10**5)\n",
            "#Sauvegarde dans un fichier .samples.npy\n",
            "np.save(\"samples.npy\", distribution)\n",
            "with open(\"samples.npy\", \"rb\") as f:\n",
            "    a = np.load(f)\n",
            "print(\"distribution :\", a)\n",
            "#Vérification de la taille du vecteur sauvegardé dans le fichier\n",
            "print(\"La taille du vecteur représentant la distribution est de\" , np.size(a))\n"
         ]
      },
      {
         "cell_type": "markdown",
         "metadata": {},
         "source": [
            "3\\. Estimate an histogram of this distribution for a well chosen set of bins, and display it.\n",
            "> Warnings: \n",
            "> - make sure the [histogram](https://matplotlib.org/api/_as_gen/matplotlib.pyplot.hist.html?highlight=hist#matplotlib.pyplot.hist) corresponds to a probability density function (pdf);\n",
            "> - do not forget to include a proper title with names for the axes."
         ]
      },
      {
         "cell_type": "markdown",
         "metadata": {},
         "source": [
            "**Answer**:"
         ]
      },
      {
         "cell_type": "code",
         "execution_count": 7,
         "metadata": {},
         "outputs": [
            {
               "data": {
                  "image/png": "[encoded data removed]",
                  "text/plain": [
                     "<Figure size 640x480 with 1 Axes>"
                  ]
               },
               "metadata": {},
               "output_type": "display_data"
            }
         ],
         "source": [
            "import matplotlib.pyplot as plt\n",
            "#Création de l'histogramme, en précisant qu'il correspond à une fonction de densité\n",
            "values, bins, patches = plt.hist(distribution, bins=100, density=True)\n",
            "\n",
            "# Titre et légende\n",
            "plt.title('Histogramme de la densité de probabilité gamma')\n",
            "plt.xlabel('Valeurs prises par les échantillons')\n",
            "plt.ylabel('Densité de probabilité')\n",
            "\n",
            "# Affichage de la figure\n",
            "plt.show()"
         ]
      },
      {
         "cell_type": "markdown",
         "metadata": {},
         "source": [
            "4\\. Overlay the probability density function on the histogram and compare these in a few words. Save the resulting picture in `.png` format.\n",
            "> Hint: \n",
            "> - take a look at the `scipy` [documentation](https://docs.scipy.org/doc/scipy/reference/stats.html) to avoid implementing the pdf from scratch;\n",
            "> - return the bins in which the histogram is computed, and evaluate the pdf on those points."
         ]
      },
      {
         "cell_type": "markdown",
         "metadata": {},
         "source": [
            "**Answer**:"
         ]
      },
      {
         "cell_type": "code",
         "execution_count": 6,
         "metadata": {},
         "outputs": [
            {
               "data": {
                  "image/png": "[encoded data removed]",
                  "text/plain": [
                     "<Figure size 640x480 with 1 Axes>"
                  ]
               },
               "metadata": {},
               "output_type": "display_data"
            }
         ],
         "source": [
            "import scipy.stats as stats\n",
            "#Récupération des points pour tracer la fonction de densité de gamma, en prenant les centres des bins\n",
            "bin_centers = (bins[:-1] + bins[1:]) / 2\n",
            "#Caclcul de la fonction de densité\n",
            "tab = stats.gamma.pdf(bin_centers, alpha, scale = 1/beta)\n",
            "plt.plot(bin_centers, tab)\n",
            "plt.hist(distribution, bins=100, density=True)\n",
            "\n",
            "# Titre et légende\n",
            "plt.title('Histogramme de la densité de probabilité gamma')\n",
            "plt.xlabel('Valeurs prises par les échantillons')\n",
            "plt.ylabel('Densité de probabilité')\n",
            "\n",
            "# On sauvegarde la figure en format .png\n",
            "plt.savefig('img/exercice1_histogram_density_function.png')\n",
            "\n",
            "# Affichage de la figure\n",
            "plt.show()"
         ]
      },
      {
         "cell_type": "markdown",
         "metadata": {},
         "source": [
            "---\n",
            "## <a name=\"ex2\">Exercise 2: Basic statistics with `pandas`</a>\n",
            "\n",
            "In this second exercise, we focus on computing basic statistics, and applying linear regression to a small data set. These data are gathered in the following table, which gives the infant mortality (`X`) and the gross national product per inhabitant (`Y`) of 12 european countries :\n",
            "\n",
            "| `X` | 190 | 128 | 180 | 212 | 56 | 192 | 68 | 98 | 110 | 197 | 181 | 233 |\n",
            "|-----|-----|-----|-----|----|-----|----|----|-----|-----|-----|-----|-----|\n",
            "| `Y` |  24 |  28 |  24 | 19 |  37 | 22 | 34 |  25 |  36 |  24 |  20 |  18 |\n",
            "\n",
            "1\\. For `X `and `Y`, compute the median, mean, variance and standard deviation. The data points have already been entered into a `.csv` file stored in `data/data.csv`.\n",
            "> Hint: \n",
            "> - you can directly use `pandas` to load the data into a `DataFrame` ([`pd.read_csv`](https://pandas.pydata.org/docs/reference/frame.html));\n",
            "> - take a look at the built-in operations available for `DataFrame` objects ([documentation](https://pandas.pydata.org/docs/reference/frame.html));\n",
            "> - to display a `DataFrame` `f`:\n",
            "> ```python \n",
            "> from IPython.display import display\n",
            "> display(df)\n",
            "> ```\n",
            "> - sort the `DataFrame` with respect to the value of `X` (see [here](https://pandas.pydata.org/docs/reference/api/pandas.DataFrame.sort_values.html#pandas.DataFrame.sort_values)) This will be useful for question 3."
         ]
      },
      {
         "cell_type": "markdown",
         "metadata": {},
         "source": [
            "**Answer**:"
         ]
      },
      {
         "cell_type": "code",
         "execution_count": 8,
         "metadata": {},
         "outputs": [
            {
               "data": {
                  "text/html": [
                     "<div>\n",
                     "<style scoped>\n",
                     "    .dataframe tbody tr th:only-of-type {\n",
                     "        vertical-align: middle;\n",
                     "    }\n",
                     "\n",
                     "    .dataframe tbody tr th {\n",
                     "        vertical-align: top;\n",
                     "    }\n",
                     "\n",
                     "    .dataframe thead th {\n",
                     "        text-align: right;\n",
                     "    }\n",
                     "</style>\n",
                     "<table border=\"1\" class=\"dataframe\">\n",
                     "  <thead>\n",
                     "    <tr style=\"text-align: right;\">\n",
                     "      <th></th>\n",
                     "      <th>X</th>\n",
                     "      <th>Y</th>\n",
                     "    </tr>\n",
                     "  </thead>\n",
                     "  <tbody>\n",
                     "    <tr>\n",
                     "      <th>0</th>\n",
                     "      <td>190</td>\n",
                     "      <td>24</td>\n",
                     "    </tr>\n",
                     "    <tr>\n",
                     "      <th>1</th>\n",
                     "      <td>128</td>\n",
                     "      <td>28</td>\n",
                     "    </tr>\n",
                     "    <tr>\n",
                     "      <th>2</th>\n",
                     "      <td>180</td>\n",
                     "      <td>24</td>\n",
                     "    </tr>\n",
                     "    <tr>\n",
                     "      <th>3</th>\n",
                     "      <td>212</td>\n",
                     "      <td>19</td>\n",
                     "    </tr>\n",
                     "    <tr>\n",
                     "      <th>4</th>\n",
                     "      <td>56</td>\n",
                     "      <td>37</td>\n",
                     "    </tr>\n",
                     "  </tbody>\n",
                     "</table>\n",
                     "</div>"
                  ],
                  "text/plain": [
                     "     X   Y\n",
                     "0  190  24\n",
                     "1  128  28\n",
                     "2  180  24\n",
                     "3  212  19\n",
                     "4   56  37"
                  ]
               },
               "execution_count": 8,
               "metadata": {},
               "output_type": "execute_result"
            }
         ],
         "source": [
            "import pandas as pd\n",
            "\n",
            "# Chargement des données\n",
            "df = pd.read_csv('data/data.csv')\n",
            "df.head()"
         ]
      },
      {
         "cell_type": "code",
         "execution_count": 9,
         "metadata": {},
         "outputs": [
            {
               "data": {
                  "text/html": [
                     "<div>\n",
                     "<style scoped>\n",
                     "    .dataframe tbody tr th:only-of-type {\n",
                     "        vertical-align: middle;\n",
                     "    }\n",
                     "\n",
                     "    .dataframe tbody tr th {\n",
                     "        vertical-align: top;\n",
                     "    }\n",
                     "\n",
                     "    .dataframe thead th {\n",
                     "        text-align: right;\n",
                     "    }\n",
                     "</style>\n",
                     "<table border=\"1\" class=\"dataframe\">\n",
                     "  <thead>\n",
                     "    <tr style=\"text-align: right;\">\n",
                     "      <th></th>\n",
                     "      <th>X</th>\n",
                     "      <th>Y</th>\n",
                     "    </tr>\n",
                     "  </thead>\n",
                     "  <tbody>\n",
                     "    <tr>\n",
                     "      <th>0</th>\n",
                     "      <td>190</td>\n",
                     "      <td>24</td>\n",
                     "    </tr>\n",
                     "    <tr>\n",
                     "      <th>1</th>\n",
                     "      <td>128</td>\n",
                     "      <td>28</td>\n",
                     "    </tr>\n",
                     "    <tr>\n",
                     "      <th>2</th>\n",
                     "      <td>180</td>\n",
                     "      <td>24</td>\n",
                     "    </tr>\n",
                     "    <tr>\n",
                     "      <th>3</th>\n",
                     "      <td>212</td>\n",
                     "      <td>19</td>\n",
                     "    </tr>\n",
                     "    <tr>\n",
                     "      <th>4</th>\n",
                     "      <td>56</td>\n",
                     "      <td>37</td>\n",
                     "    </tr>\n",
                     "    <tr>\n",
                     "      <th>5</th>\n",
                     "      <td>192</td>\n",
                     "      <td>22</td>\n",
                     "    </tr>\n",
                     "    <tr>\n",
                     "      <th>6</th>\n",
                     "      <td>68</td>\n",
                     "      <td>34</td>\n",
                     "    </tr>\n",
                     "    <tr>\n",
                     "      <th>7</th>\n",
                     "      <td>98</td>\n",
                     "      <td>25</td>\n",
                     "    </tr>\n",
                     "    <tr>\n",
                     "      <th>8</th>\n",
                     "      <td>110</td>\n",
                     "      <td>36</td>\n",
                     "    </tr>\n",
                     "    <tr>\n",
                     "      <th>9</th>\n",
                     "      <td>197</td>\n",
                     "      <td>24</td>\n",
                     "    </tr>\n",
                     "    <tr>\n",
                     "      <th>10</th>\n",
                     "      <td>181</td>\n",
                     "      <td>20</td>\n",
                     "    </tr>\n",
                     "    <tr>\n",
                     "      <th>11</th>\n",
                     "      <td>233</td>\n",
                     "      <td>18</td>\n",
                     "    </tr>\n",
                     "  </tbody>\n",
                     "</table>\n",
                     "</div>"
                  ],
                  "text/plain": [
                     "      X   Y\n",
                     "0   190  24\n",
                     "1   128  28\n",
                     "2   180  24\n",
                     "3   212  19\n",
                     "4    56  37\n",
                     "5   192  22\n",
                     "6    68  34\n",
                     "7    98  25\n",
                     "8   110  36\n",
                     "9   197  24\n",
                     "10  181  20\n",
                     "11  233  18"
                  ]
               },
               "metadata": {},
               "output_type": "display_data"
            }
         ],
         "source": [
            "# Afficher le DataFrame\n",
            "from IPython.display import display\n",
            "display(df)"
         ]
      },
      {
         "cell_type": "code",
         "execution_count": 10,
         "metadata": {},
         "outputs": [
            {
               "data": {
                  "text/html": [
                     "<div>\n",
                     "<style scoped>\n",
                     "    .dataframe tbody tr th:only-of-type {\n",
                     "        vertical-align: middle;\n",
                     "    }\n",
                     "\n",
                     "    .dataframe tbody tr th {\n",
                     "        vertical-align: top;\n",
                     "    }\n",
                     "\n",
                     "    .dataframe thead th {\n",
                     "        text-align: right;\n",
                     "    }\n",
                     "</style>\n",
                     "<table border=\"1\" class=\"dataframe\">\n",
                     "  <thead>\n",
                     "    <tr style=\"text-align: right;\">\n",
                     "      <th></th>\n",
                     "      <th>X</th>\n",
                     "      <th>Y</th>\n",
                     "    </tr>\n",
                     "  </thead>\n",
                     "  <tbody>\n",
                     "    <tr>\n",
                     "      <th>4</th>\n",
                     "      <td>56</td>\n",
                     "      <td>37</td>\n",
                     "    </tr>\n",
                     "    <tr>\n",
                     "      <th>6</th>\n",
                     "      <td>68</td>\n",
                     "      <td>34</td>\n",
                     "    </tr>\n",
                     "    <tr>\n",
                     "      <th>7</th>\n",
                     "      <td>98</td>\n",
                     "      <td>25</td>\n",
                     "    </tr>\n",
                     "    <tr>\n",
                     "      <th>8</th>\n",
                     "      <td>110</td>\n",
                     "      <td>36</td>\n",
                     "    </tr>\n",
                     "    <tr>\n",
                     "      <th>1</th>\n",
                     "      <td>128</td>\n",
                     "      <td>28</td>\n",
                     "    </tr>\n",
                     "    <tr>\n",
                     "      <th>2</th>\n",
                     "      <td>180</td>\n",
                     "      <td>24</td>\n",
                     "    </tr>\n",
                     "    <tr>\n",
                     "      <th>10</th>\n",
                     "      <td>181</td>\n",
                     "      <td>20</td>\n",
                     "    </tr>\n",
                     "    <tr>\n",
                     "      <th>0</th>\n",
                     "      <td>190</td>\n",
                     "      <td>24</td>\n",
                     "    </tr>\n",
                     "    <tr>\n",
                     "      <th>5</th>\n",
                     "      <td>192</td>\n",
                     "      <td>22</td>\n",
                     "    </tr>\n",
                     "    <tr>\n",
                     "      <th>9</th>\n",
                     "      <td>197</td>\n",
                     "      <td>24</td>\n",
                     "    </tr>\n",
                     "    <tr>\n",
                     "      <th>3</th>\n",
                     "      <td>212</td>\n",
                     "      <td>19</td>\n",
                     "    </tr>\n",
                     "    <tr>\n",
                     "      <th>11</th>\n",
                     "      <td>233</td>\n",
                     "      <td>18</td>\n",
                     "    </tr>\n",
                     "  </tbody>\n",
                     "</table>\n",
                     "</div>"
                  ],
                  "text/plain": [
                     "      X   Y\n",
                     "4    56  37\n",
                     "6    68  34\n",
                     "7    98  25\n",
                     "8   110  36\n",
                     "1   128  28\n",
                     "2   180  24\n",
                     "10  181  20\n",
                     "0   190  24\n",
                     "5   192  22\n",
                     "9   197  24\n",
                     "3   212  19\n",
                     "11  233  18"
                  ]
               },
               "metadata": {},
               "output_type": "display_data"
            }
         ],
         "source": [
            "# On trie le DataFrame en fonction de la valeur de X\n",
            "df_sorted = df.sort_values(by='X')\n",
            "\n",
            "# Affichage du DataFrame trié\n",
            "display(df_sorted)"
         ]
      },
      {
         "cell_type": "markdown",
         "metadata": {},
         "source": [
            "2\\. Give the equation of the regression line of `Y` as a function of `X`.\n",
            "> Hint: \n",
            "> - take a look at the functionalities available in `numpy` (e.g., `np.polyfit` and `np.polyval`);\n",
            "> - if needed, note that you can retrieve the data from the resulting `pandas` `DataFrame` with the `to_numpy()` method."
         ]
      },
      {
         "cell_type": "markdown",
         "metadata": {},
         "source": [
            "**Answer**:"
         ]
      },
      {
         "cell_type": "code",
         "execution_count": 11,
         "metadata": {},
         "outputs": [
            {
               "name": "stdout",
               "output_type": "stream",
               "text": [
                  "X :  [ 56  68  98 110 128 180 181 190 192 197 212 233]\n",
                  "Y :  [37 34 25 36 28 24 20 24 22 24 19 18]\n"
               ]
            }
         ],
         "source": [
            "import numpy as np\n",
            "\n",
            "# On extrait X and Y du Dataframe\n",
            "X_values = df_sorted['X'].to_numpy()\n",
            "Y_values = df_sorted['Y'].to_numpy()\n",
            "\n",
            "print(\"X : \", X_values)\n",
            "print(\"Y : \", Y_values)"
         ]
      },
      {
         "cell_type": "code",
         "execution_count": 12,
         "metadata": {},
         "outputs": [
            {
               "name": "stdout",
               "output_type": "stream",
               "text": [
                  "L'équation de la droite de régression est : Y = -0.10X + 41.01\n"
               ]
            }
         ],
         "source": [
            "# On fait la regression linéaire\n",
            "coefficients = np.polyfit(X_values, Y_values, 1)\n",
            "\n",
            "# On peut donc obtenir la pente (m) et l'ordonnée à l'origine (b) de la droite de régression\n",
            "m, b = coefficients\n",
            "\n",
            "# Afficher l'équation de la droite de régression\n",
            "print(f\"L'équation de la droite de régression est : Y = {m:.2f}X + {b:.2f}\")\n"
         ]
      },
      {
         "cell_type": "markdown",
         "metadata": {},
         "source": [
            "3\\. Display the cloud of points and the regression line $Y = f(X)$ on the same figure. Save the figure in `.png` format."
         ]
      },
      {
         "cell_type": "markdown",
         "metadata": {},
         "source": [
            "**Answer**:"
         ]
      },
      {
         "cell_type": "code",
         "execution_count": 13,
         "metadata": {},
         "outputs": [],
         "source": [
            "# On peut définir la droite de régression en fonction de X\n",
            "def droite_de_regression(x):\n",
            "    \"\"\"\n",
            "    Calcule les valeurs de Y prédites à partir de la régression linéaire.\n",
            "\n",
            "    Args:\n",
            "        x (float): La valeur de X pour laquelle la valeur de Y est prédite.\n",
            "\n",
            "    Returns:\n",
            "        float: La valeur de Y prédite.\n",
            "    \"\"\"\n",
            "    return np.polyval(coefficients, x)"
         ]
      },
      {
         "cell_type": "code",
         "execution_count": 14,
         "metadata": {},
         "outputs": [
            {
               "data": {
                  "image/png": "[encoded data removed]",
                  "text/plain": [
                     "<Figure size 640x480 with 1 Axes>"
                  ]
               },
               "metadata": {},
               "output_type": "display_data"
            }
         ],
         "source": [
            "import matplotlib.pyplot as plt\n",
            "\n",
            "# On trace d'abord le nuage de points des données originales\n",
            "plt.scatter(X_values, Y_values, label='Données originales', color='blue')\n",
            "\n",
            "# On calcule les valeurs de Y prédites avec la droite de régression\n",
            "Y_predicted = droite_de_regression(X_values)\n",
            "\n",
            "# On trace cette droite de regression\n",
            "plt.plot(X_values, Y_predicted, label='Droite de régression', color='red')\n",
            "\n",
            "# Titre et légende\n",
            "plt.title('Nuage de points et Droite de régression')\n",
            "plt.xlabel('Mortalité infantile (X)')\n",
            "plt.ylabel('Produit national brut par habitant (Y)')\n",
            "plt.legend()\n",
            "\n",
            "# On sauvegarde la figure en format .png\n",
            "plt.savefig('img/exercice2_regression.png')\n",
            "\n",
            "# Affichage de la figure\n",
            "plt.show()\n"
         ]
      },
      {
         "cell_type": "markdown",
         "metadata": {},
         "source": [
            "---\n",
            "## <a name=\"ex3\">Exercise 3: Discrete isotropic total variation</a>\n",
            "\n",
            "This exercise is devoted to the computation of the discrete isotropic total variation (TV) of an input matrix $\\mathbf{X} = [\\mathbf{x}_n]_{1 \\leq n \\leq N} \\in\\mathbb{C}^{M \\times N}$, which is particularly useful in Bayesian inference (e.g., for inverse problems) to promote piece-wise smooth solutions. The TV is defined as\n",
            "\n",
            "\\begin{equation*}\n",
            "    \\text{TV}(\\mathbf{X}) = \\Vert D(\\mathbf{X}) \\Vert_{1,2} = \\sum_{m=1}^M \\sum_{n=1}^N \\sqrt{[\\mathbf{XD}_h]^2_{m,n} + [\\mathbf{D}_v\\mathbf{X}]^2_{m,n}},\n",
            "\\end{equation*}\n",
            "\n",
            "where $[\\mathbf{Z}]_{m,n}$ denotes the elements in position $(m,n)$ of the matrix $\\mathbf{Z}$,\n",
            "\n",
            "\\begin{align*}\n",
            "    D(X) &= (\\mathbf{XD}_h, \\mathbf{D}_v\\mathbf{X}) \\in \\mathbb{C}^{M\\times N} \\times \\mathbb{C}^{M\\times N} \\\\\n",
            "    %\n",
            "    \\mathbf{XD}_h &= [\\mathbf{x}_2-\\mathbf{x}_1, \\dotsc, \\mathbf{x}_N-\\mathbf{x}_{N-1}, \\mathbf{0}_M] \\in \\mathbb{C}^{M\\times N} \\\\\n",
            "    %\n",
            "    \\mathbf{D}_v\\mathbf{X} &= [\\tilde{\\mathbf{x}}_2^T-\\tilde{\\mathbf{x}}^T_1, \\dotsc, \\tilde{\\mathbf{x}}^T_M-\\tilde{\\mathbf{x}}^T_{M-1}, \\mathbf{0}_N]^T \\in \\mathbb{C}^{M\\times N},\n",
            "\\end{align*}\n",
            "\n",
            "$\\mathbf{x}_n \\in \\mathbb{C}^{M}$ is the $n$-th column of $\\mathbf{X}$, and $\\tilde{\\mathbf{x}}_m \\in \\mathbb{C}^{1\\times N}$ is the $m$-th row of $\\mathbf{X}$. \n",
            "The linear operator $D: \\mathbb{C}^{M\\times N} \\rightarrow \\mathbb{C}^{M\\times N} \\times \\mathbb{C}^{M\\times N} $ is the discrete gradient operator. The adjoint of $D$, $D^*: \\mathbb{C}^{M\\times N} \\times \\mathbb{C}^{M\\times N} \\rightarrow \\mathbb{C}^{M\\times N}$, is given by\n",
            "\n",
            "\\begin{align*}\n",
            "    (\\forall \\mathbf{Y} = (\\mathbf{Y}_h,\\mathbf{Y}_v)), \\quad D^*(\\mathbf{Y}) &= \\mathbf{Y}_h\\mathbf{D}^*_h + \\mathbf{D}^*_v\\mathbf{Y}_v \\\\\n",
            "    %\n",
            "    \\mathbf{Y}_h\\mathbf{D}^*_h &= \\big[-\\mathbf{y}_{h,1},- [\\mathbf{y}_{h,n}-\\mathbf{y}_{h,n-1}]_{2 \\leq n \\leq N-1}, \\mathbf{y}_{h, N-1} \\big] \\\\\n",
            "    %\n",
            "    \\mathbf{D}^*_v\\mathbf{Y}_v &= \\big[-\\tilde{\\mathbf{y}}_{v,1}^T,- [\\tilde{\\mathbf{y}}_{v,m}^T-\\tilde{\\mathbf{y}}^T_{v,m-1}]_{2 \\leq m \\leq M-1}, \\tilde{\\mathbf{y}}^T_{v, M-1} \\big]^T\n",
            "\\end{align*}\n",
            "\n",
            "where $\\mathbf{y}_{h,n}$ is the $n$-th column of $\\mathbf{Y}_h$, and $\\tilde{\\mathbf{x}}_{v,m}$ is the $m$-th row of $\\mathbf{Y}_v$.\n",
            "\n",
            "1\\. Using `numpy`, implement a function `gradient2D` to compute the 2D discrete gradient operator $D$ applied to a matrix $\\mathbf{X}\\in\\mathbb{C}^{M \\times N}$ (no for loops!). Trigger an error message whenever the input array has more than 2 dimensions. If not clear from the implementation, add a few short comments to explain your code.\n",
            "\n",
            "> Hint: \n",
            "> - to trigger an error, you can for instance use an `assert` statement, or raise an [exception (e.g., `AssertionError`)](https://docs.python.org/3/library/exceptions.html);\n",
            "> - only a few operations are needed: computing vertical differences, horizontal differences, and possibly a concatenation of matrices into a single tensor (= n-dimensional array);\n",
            "> - possibly useful functions: `np.diff`, `np.c_`, `np.r_` (or `np.concatenate`). "
         ]
      },
      {
         "cell_type": "markdown",
         "metadata": {},
         "source": [
            "**Answer**:"
         ]
      },
      {
         "cell_type": "code",
         "execution_count": 15,
         "metadata": {},
         "outputs": [],
         "source": [
            "import numpy as np \n",
            "\n",
            "def gradient2D(X):\n",
            "    \"\"\"\n",
            "    Calcule l'opérateur de gradient discret 2D appliqué à une matrice X.\n",
            "\n",
            "    Args:\n",
            "        X (np.ndarray): Matrice d'entrée de forme (M, N).\n",
            "\n",
            "    Returns:\n",
            "        tuple: Un tuple contenant deux tableaux représentant le gradient horizontal (X Dh) et le gradient vertical (Dv X) respectivement.\n",
            "\n",
            "    Raises:\n",
            "        AssertionError: Si le tableau d'entrée a plus de 2 dimensions.\n",
            "    \"\"\"\n",
            "\n",
            "    # Vérification que le tableau d'entrée a exactement 2 dimensions\n",
            "    assert X.ndim == 2, \"Le tableau d'entrée doit être 2D.\"\n",
            "    \n",
            "    # Calcule les différences horizontales\n",
            "    Dh = np.diff(X, axis=1)\n",
            "    Dh = np.concatenate((Dh, np.zeros((X.shape[0], 1))), axis=1)\n",
            "    \n",
            "    # Calcule les différences verticales\n",
            "    Dv = np.diff(X, axis=0)\n",
            "    Dv = np.concatenate((Dv, np.zeros((1, X.shape[1]))), axis=0)\n",
            "\n",
            "    return Dh, Dv"
         ]
      },
      {
         "cell_type": "markdown",
         "metadata": {},
         "source": [
            "2\\. Implement a unit-test to validate the behaviour of the `gradient2D` function. For instance, you can check the format of the output, and test the result when the function is evaluated on a constant matrix (for both a square and a non-square input matrix). Run the unit-test from the present Jupyter notebook."
         ]
      },
      {
         "cell_type": "markdown",
         "metadata": {},
         "source": [
            "**Answer**:"
         ]
      },
      {
         "cell_type": "markdown",
         "metadata": {},
         "source": [
            "Les tests ont été réalisés dans un fichier à part"
         ]
      },
      {
         "cell_type": "code",
         "execution_count": 25,
         "metadata": {},
         "outputs": [
            {
               "name": "stderr",
               "output_type": "stream",
               "text": [
                  "..\n",
                  "----------------------------------------------------------------------\n",
                  "Ran 2 tests in 0.007s\n",
                  "\n",
                  "OK\n"
               ]
            }
         ],
         "source": [
            "# Exécution des tests\n",
            "%run tests/test-gradient-2D.py"
         ]
      },
      {
         "cell_type": "markdown",
         "metadata": {},
         "source": [
            "3\\. Document the function `gradient2D` with an appropriate docstring (see Lab 1)."
         ]
      },
      {
         "cell_type": "markdown",
         "metadata": {},
         "source": [
            "**Answer**:"
         ]
      },
      {
         "cell_type": "markdown",
         "metadata": {},
         "source": [
            "Ceci avec déja été réalisé dans la question 1, je recopie donc le code ici"
         ]
      },
      {
         "cell_type": "code",
         "execution_count": 18,
         "metadata": {},
         "outputs": [],
         "source": [
            "import numpy as np \n",
            "\n",
            "def gradient2D(X):\n",
            "    \"\"\"\n",
            "    Calcule l'opérateur de gradient discret 2D appliqué à une matrice X.\n",
            "\n",
            "    Args:\n",
            "        X (np.ndarray): Matrice d'entrée de forme (M, N).\n",
            "\n",
            "    Returns:\n",
            "        tuple: Un tuple contenant deux tableaux représentant le gradient horizontal (X Dh) et le gradient vertical (Dv X) respectivement.\n",
            "\n",
            "    Raises:\n",
            "        AssertionError: Si le tableau d'entrée a plus de 2 dimensions.\n",
            "    \"\"\"\n",
            "\n",
            "    # Vérification que le tableau d'entrée a exactement 2 dimensions\n",
            "    assert X.ndim == 2, \"Le tableau d'entrée doit être 2D.\"\n",
            "    \n",
            "    # Calcule les différences horizontales\n",
            "    Dh = np.diff(X, axis=1)\n",
            "    Dh = np.concatenate((Dh, np.zeros((X.shape[0], 1))), axis=1)\n",
            "    \n",
            "    # Calcule les différences verticales\n",
            "    Dv = np.diff(X, axis=0)\n",
            "    Dv = np.concatenate((Dv, np.zeros((1, X.shape[1]))), axis=0)\n",
            "\n",
            "    return Dh, Dv"
         ]
      },
      {
         "cell_type": "code",
         "execution_count": 19,
         "metadata": {},
         "outputs": [
            {
               "name": "stdout",
               "output_type": "stream",
               "text": [
                  "\n",
                  "    Calcule l'opérateur de gradient discret 2D appliqué à une matrice X.\n",
                  "\n",
                  "    Args:\n",
                  "        X (np.ndarray): Matrice d'entrée de forme (M, N).\n",
                  "\n",
                  "    Returns:\n",
                  "        tuple: Un tuple contenant deux tableaux représentant le gradient horizontal (X Dh) et le gradient vertical (Dv X) respectivement.\n",
                  "\n",
                  "    Raises:\n",
                  "        AssertionError: Si le tableau d'entrée a plus de 2 dimensions.\n",
                  "    \n"
               ]
            }
         ],
         "source": [
            "# On peut donc afficher sa documentation de la sorte :\n",
            "print(gradient2D.__doc__)"
         ]
      },
      {
         "cell_type": "markdown",
         "metadata": {},
         "source": [
            "4\\. Using 1., define a function `tv` to compute $\\text{TV}(\\mathbf{X})$, $\\mathbf{X}\\in\\mathbb{C}^{M \\times N}$. Write a unit-test and document your function."
         ]
      },
      {
         "cell_type": "markdown",
         "metadata": {},
         "source": [
            "**Answer**:"
         ]
      },
      {
         "cell_type": "code",
         "execution_count": 20,
         "metadata": {},
         "outputs": [],
         "source": [
            "def tv(X):\n",
            "    \"\"\"\n",
            "    Calcule la variation totale isotropique discrète (TV) d'une matrice X.\n",
            "\n",
            "    Args:\n",
            "        X (np.ndarray): Matrice d'entrée de forme (M, N).\n",
            "\n",
            "    Returns:\n",
            "        float: Variation totale de la matrice d'entrée.\n",
            "\n",
            "    Raises:\n",
            "        AssertionError: Si le tableau d'entrée a plus de 2 dimensions.\n",
            "    \"\"\"\n",
            "    # Calcul du gradient discret 2D\n",
            "    Dh, Dv = gradient2D(X)\n",
            "\n",
            "    # Calcul de la TV\n",
            "    total_variation = np.sum(np.sqrt(Dh**2 + Dv**2))\n",
            "\n",
            "    return total_variation"
         ]
      },
      {
         "cell_type": "code",
         "execution_count": 21,
         "metadata": {},
         "outputs": [
            {
               "name": "stdout",
               "output_type": "stream",
               "text": [
                  "\n",
                  "    Calcule la variation totale isotropique discrète (TV) d'une matrice X.\n",
                  "\n",
                  "    Args:\n",
                  "        X (np.ndarray): Matrice d'entrée de forme (M, N).\n",
                  "\n",
                  "    Returns:\n",
                  "        float: Variation totale de la matrice d'entrée.\n",
                  "\n",
                  "    Raises:\n",
                  "        AssertionError: Si le tableau d'entrée a plus de 2 dimensions.\n",
                  "    \n"
               ]
            }
         ],
         "source": [
            "# On peut donc afficher sa documentation de la sorte :\n",
            "print(tv.__doc__)"
         ]
      },
      {
         "cell_type": "markdown",
         "metadata": {},
         "source": [
            "Les tests ont été réalisés dans un fichier à part"
         ]
      },
      {
         "cell_type": "code",
         "execution_count": 27,
         "metadata": {},
         "outputs": [
            {
               "name": "stderr",
               "output_type": "stream",
               "text": [
                  ".\n",
                  "----------------------------------------------------------------------\n",
                  "Ran 1 test in 0.004s\n",
                  "\n",
                  "OK\n"
               ]
            }
         ],
         "source": [
            "# Exécution des tests\n",
            "%run tests/test-tv.py"
         ]
      },
      {
         "cell_type": "markdown",
         "metadata": {},
         "source": [
            "5\\. Implement a function `gradient2D_adjoint` to compute $D^*(\\mathbf{Y})$, the adjoint of the 2D discrete gradient operator $D$ applied to $\\mathbf{Y}\\in\\mathbb{C}^{M \\times N}\\times \\mathbb{C}^{M \\times N}$. Add a few short comments to explain your code whenever appropriate."
         ]
      },
      {
         "cell_type": "markdown",
         "metadata": {},
         "source": [
            "**Answer**:"
         ]
      },
      {
         "cell_type": "code",
         "execution_count": 24,
         "metadata": {},
         "outputs": [],
         "source": [
            "def gradient2D_adjoint(Y_h, Y_v):\n",
            "    \"\"\"\n",
            "    Calcule l'adjoint de l'opérateur de gradient discret 2D appliqué à Y.\n",
            "\n",
            "    Args:\n",
            "        Y_h (np.ndarray): Gradient horizontal de forme (M, N).\n",
            "        Y_v (np.ndarray): Gradient vertical de forme (M, N).\n",
            "\n",
            "    Returns:\n",
            "        np.ndarray: Résultat de l'opération adjointe de l'opérateur de gradient discret 2D appliqué à Y.\n",
            "\n",
            "    Raises:\n",
            "        AssertionError: Si les tableaux d'entrée n'ont pas les mêmes dimensions.\n",
            "    \"\"\"\n",
            "    # Vérification que les tableaux d'entrée ont les mêmes dimensions\n",
            "    assert Y_h.shape == Y_v.shape, \"Les tableaux d'entrée doivent avoir les mêmes dimensions.\"\n",
            "\n",
            "    # Calcul de l'opération adjointe\n",
            "\n",
            "    # Calcul des différences horizontales négatives\n",
            "    D_adj_h = -np.diff(Y_h, axis=1)\n",
            "    D_adj_h = np.concatenate((-Y_h[:, :1], D_adj_h[:, :-1], Y_h[:, -1:]), axis=1)\n",
            "\n",
            "    # Calcul des différences verticales négatives\n",
            "    D_adj_v = -np.diff(Y_v, axis=0)\n",
            "    D_adj_v = np.concatenate((-Y_v[:1, :].T, D_adj_v[:-1, :].T, Y_v[-1:, :].T), axis=1)\n",
            "\n",
            "    D_adj_v = D_adj_v.T\n",
            "\n",
            "    return D_adj_h + D_adj_v"
         ]
      },
      {
         "cell_type": "markdown",
         "metadata": {},
         "source": [
            "6\\. Implement a unit-test to validate `gradient2D_adjoint`, e.g., by checking the size of the output from the function and verifying that `gradient2D_adjoint` is adjoint to `gradient2D`, i.e., for any $\\mathbf{X}\\in\\mathbb{C}^{M \\times N}$ and $\\mathbf{Y}\\in\\mathbb{C}^{M \\times N}\\times \\mathbb{C}^{M \\times N}$:\n",
            "\n",
            "\\begin{equation}\n",
            "    \\forall \\mathbf{X} \\in \\mathbb{C}^{M \\times N}, \\mathbf{Y} = (\\mathbf{Y}_h, \\mathbf{Y}_v) \\in \\mathbb{C}^{M \\times N} \\times \\mathbb{C}^{M \\times N}, \\;\n",
            "    %\n",
            "    \\langle D(\\mathbf{X}), \\mathbf{Y} \\rangle_{\\mathbb{C}^{M \\times N} \\times \\mathbb{C}^{M \\times N}} = \\langle \\mathbf{X}, D^*(\\mathbf{Y}) \\rangle_{\\mathbb{C}^{M \\times N}}, \n",
            "\\end{equation}\n",
            "\n",
            "where \n",
            "\n",
            "\\begin{align}\n",
            "    &\\forall \\mathbf{U}, \\mathbf{V} \\in \\mathbb{C}^{M \\times N}, \\; \\langle \\mathbf{U}, \\mathbf{V} \\rangle_{\\mathbb{C}^{M \\times N}} = \\text{Tr}(\\mathbf{U}^H \\mathbf{V}) = \\sum_{m=1}^M \\sum_{n=1}^N u_{m,n}^* v_{m,n}, \\\\\n",
            "    &\\forall \\mathbf{U} = (\\mathbf{U}_h, \\mathbf{U}_v), \\mathbf{V} = (\\mathbf{V}_h, \\mathbf{V}_v) \\in \\mathbb{C}^{M \\times N} \\times \\mathbb{C}^{M \\times N}, \\; \\langle \\mathbf{U}, \\mathbf{V} \\rangle_{\\mathbb{C}^{M \\times N} \\times \\mathbb{C}^{M \\times N}} = \\langle \\mathbf{U}_h, \\mathbf{V}_h \\rangle_{\\mathbb{C}^{M \\times N}} + \\langle \\mathbf{U}_v, \\mathbf{V}_v \\rangle_{\\mathbb{C}^{M \\times N}}.\n",
            "\\end{align}\n",
            "\n",
            "> Hint: to verify `gradient2D_adjoint` is the adjoint of `gradient2D`, evaluate the scalar products above for randomly drawn matrices. Set the random generator to a known state for reproducibility (see [Exercise 1](#ex1))."
         ]
      },
      {
         "cell_type": "markdown",
         "metadata": {},
         "source": [
            "**Answer**:"
         ]
      },
      {
         "cell_type": "markdown",
         "metadata": {},
         "source": [
            "Les tests ont été réalisés dans un fichier à part"
         ]
      },
      {
         "cell_type": "code",
         "execution_count": 28,
         "metadata": {},
         "outputs": [
            {
               "name": "stderr",
               "output_type": "stream",
               "text": [
                  "..\n",
                  "----------------------------------------------------------------------\n",
                  "Ran 2 tests in 0.005s\n",
                  "\n",
                  "OK\n"
               ]
            }
         ],
         "source": [
            "# Exécution des tests\n",
            "%run tests/test-gradient2Dadjoint.py"
         ]
      },
      {
         "cell_type": "markdown",
         "metadata": {},
         "source": [
            "[Bonus, **optional**]. Generalize the `gradient2D` to any number of dimensions ($\\mathbf{X} \\in \\mathbb{C}^{N_1 \\times N_2 \\times \\dotsc \\times N_p}$), i.e., by returning tensors obtained by computing differences along each of its dimensions.\n",
            "> Hint: \n",
            "> - you may use a loops here, and/or list comprehension. Using slice objects (see [np.s_](https://numpy.org/doc/stable/reference/generated/numpy.s_.html?highlight=s_#numpy.s_) and [this page](https://stackoverflow.com/questions/24432209/python-index-an-array-using-the-colon-operator-in-an-arbitrary-dimension)) can be an interesting option.\n",
            ">\n",
            "> - the definition of the scalar product above can be extended to the case of tensors as follows:\n",
            "> \\begin{equation}\n",
            "    \\mathbf{U}, \\mathbf{V} \\in \\mathbb{C}^{N_1 \\times N_2 \\times \\dotsc \\times N_p}, \\; \\langle \\mathbf{U}, \\mathbf{V} \\rangle_{\\mathbb{C}^{N_1 \\times N_2 \\times \\dotsc \\times N_p}} =  \\sum_{n_1 = 1}^{N_1}  \\sum_{n_2 = 1}^{N_2} \\dotsc \\sum_{n_p = 1}^{N_p} u_{n_1, n_2, \\dotsc, n_p}^* v_{n_1, n_2, \\dotsc, n_p}   \n",
            "\\end{equation}"
         ]
      },
      {
         "cell_type": "markdown",
         "metadata": {},
         "source": [
            "**Answer**:"
         ]
      },
      {
         "cell_type": "code",
         "execution_count": null,
         "metadata": {},
         "outputs": [],
         "source": [
            "# your code"
         ]
      },
      {
         "cell_type": "markdown",
         "metadata": {},
         "source": [
            "## Reference\n",
            "\n",
            "```bibtex\n",
            "@article{condat:hal-01309685,\n",
            "  TITLE = {{Discrete Total Variation: New Definition and Minimization}},\n",
            "  AUTHOR = {Condat, Laurent},\n",
            "  URL = {https://hal.archives-ouvertes.fr/hal-01309685},\n",
            "  JOURNAL = {{SIAM Journal on Imaging Sciences}},\n",
            "  PUBLISHER = {{Society for Industrial and Applied Mathematics}},\n",
            "  VOLUME = {10},\n",
            "  NUMBER = {3},\n",
            "  PAGES = {1258--1290},\n",
            "  YEAR = {2017},\n",
            "  MONTH = Aug,\n",
            "  DOI = {10.1137/16M1075247},\n",
            "  KEYWORDS = { variational image processing ; total variation ;  finite-difference schemes ;  coarea formula},\n",
            "  PDF = {https://hal.archives-ouvertes.fr/hal-01309685v3/file/Condat-newTV.pdf},\n",
            "  HAL_ID = {hal-01309685},\n",
            "  HAL_VERSION = {v3},\n",
            "}\n",
            "```\n"
         ]
      }
   ],
   "metadata": {
      "kernelspec": {
         "display_name": "Python 3 (ipykernel)",
         "language": "python",
         "name": "python3"
      },
      "language_info": {
         "codemirror_mode": {
            "name": "ipython",
            "version": 3
         },
         "file_extension": ".py",
         "mimetype": "text/x-python",
         "name": "python",
         "nbconvert_exporter": "python",
         "pygments_lexer": "ipython3",
         "version": "3.8.1"
      },
      "vscode": {
         "interpreter": {
            "hash": "916dbcbb3f70747c44a77c7bcd40155683ae19c65e1c03b4aa3499c5328201f1"
         }
      }
   },
   "nbformat": 4,
   "nbformat_minor": 4
}
