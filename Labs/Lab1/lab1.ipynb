{
 "cells": [
  {
   "attachments": {},
   "cell_type": "markdown",
   "metadata": {},
   "source": [
    "# Practical session 1 - Some Python basics\n",
    "\n",
    "Students (pair):\n",
    "- [Mathieu Caron]([link](https://github.com/mcaron01/python_sdia))\n",
    "- Maxime Bacquet"
   ]
  },
  {
   "cell_type": "code",
   "execution_count": 1,
   "metadata": {},
   "outputs": [],
   "source": [
    "%load_ext autoreload\n",
    "%autoreload 2"
   ]
  },
  {
   "cell_type": "markdown",
   "metadata": {},
   "source": [
    "## Documentation\n",
    "\n",
    "To display the documentation associated to a Python function in your notebook (launched in VSCode), you can either\n",
    "- run `?functionname` or `help(my_adder)`\n",
    "- place your mouse pointer on the function name\n",
    "- write the name of the function and start opening the brackets"
   ]
  },
  {
   "cell_type": "markdown",
   "metadata": {},
   "source": [
    "## Zen of Python\n"
   ]
  },
  {
   "cell_type": "code",
   "execution_count": 2,
   "metadata": {},
   "outputs": [
    {
     "name": "stdout",
     "output_type": "stream",
     "text": [
      "The Zen of Python, by Tim Peters\n",
      "\n",
      "Beautiful is better than ugly.\n",
      "Explicit is better than implicit.\n",
      "Simple is better than complex.\n",
      "Complex is better than complicated.\n",
      "Flat is better than nested.\n",
      "Sparse is better than dense.\n",
      "Readability counts.\n",
      "Special cases aren't special enough to break the rules.\n",
      "Although practicality beats purity.\n",
      "Errors should never pass silently.\n",
      "Unless explicitly silenced.\n",
      "In the face of ambiguity, refuse the temptation to guess.\n",
      "There should be one-- and preferably only one --obvious way to do it.\n",
      "Although that way may not be obvious at first unless you're Dutch.\n",
      "Now is better than never.\n",
      "Although never is often better than *right* now.\n",
      "If the implementation is hard to explain, it's a bad idea.\n",
      "If the implementation is easy to explain, it may be a good idea.\n",
      "Namespaces are one honking great idea -- let's do more of those!\n"
     ]
    }
   ],
   "source": [
    "import this"
   ]
  },
  {
   "cell_type": "markdown",
   "metadata": {},
   "source": [
    "## Reserved keywords\n"
   ]
  },
  {
   "cell_type": "code",
   "execution_count": 3,
   "metadata": {},
   "outputs": [
    {
     "name": "stdout",
     "output_type": "stream",
     "text": [
      "['False', 'None', 'True', 'and', 'as', 'assert', 'async', 'await', 'break', 'class', 'continue', 'def', 'del', 'elif', 'else', 'except', 'finally', 'for', 'from', 'global', 'if', 'import', 'in', 'is', 'lambda', 'nonlocal', 'not', 'or', 'pass', 'raise', 'return', 'try', 'while', 'with', 'yield']\n"
     ]
    }
   ],
   "source": [
    "import keyword\n",
    "print(keyword.kwlist)"
   ]
  },
  {
   "cell_type": "markdown",
   "metadata": {},
   "source": [
    "## Arithmetic"
   ]
  },
  {
   "cell_type": "markdown",
   "metadata": {},
   "source": [
    "Compute 4 raised to the power 8"
   ]
  },
  {
   "cell_type": "code",
   "execution_count": 4,
   "metadata": {},
   "outputs": [
    {
     "name": "stdout",
     "output_type": "stream",
     "text": [
      "65536\n"
     ]
    }
   ],
   "source": [
    "res = 4 ** 8\n",
    "print(res)"
   ]
  },
  {
   "cell_type": "markdown",
   "metadata": {},
   "source": [
    "Compute the quotient and the remainder of the euclidean division of 17 by 3. "
   ]
  },
  {
   "cell_type": "code",
   "execution_count": 5,
   "metadata": {},
   "outputs": [
    {
     "name": "stdout",
     "output_type": "stream",
     "text": [
      "Quotient: 5\n",
      "Remainder: 2\n"
     ]
    }
   ],
   "source": [
    "quotient = 17 // 3\n",
    "remainder = 17 % 3\n",
    "\n",
    "print(\"Quotient:\", quotient)\n",
    "print(\"Remainder:\", remainder)"
   ]
  },
  {
   "cell_type": "markdown",
   "metadata": {},
   "source": [
    "Create two integer variables `a, b` of your choice and swap their content."
   ]
  },
  {
   "cell_type": "code",
   "execution_count": 6,
   "metadata": {},
   "outputs": [
    {
     "name": "stdout",
     "output_type": "stream",
     "text": [
      "\n",
      "Swapped values:\n",
      "a = 2\n",
      "b = 1\n"
     ]
    }
   ],
   "source": [
    "# Initialize the variables\n",
    "a = 1\n",
    "b = 2\n",
    "\n",
    "# Swap the values\n",
    "temp = a\n",
    "a = b\n",
    "b = temp\n",
    "\n",
    "# Print the swapped values\n",
    "print(\"\\nSwapped values:\")\n",
    "print(\"a =\", a)\n",
    "print(\"b =\", b)\n"
   ]
  },
  {
   "cell_type": "markdown",
   "metadata": {},
   "source": [
    "Modify `a` inplace, so that the new value of `a` is twice its previous value."
   ]
  },
  {
   "cell_type": "code",
   "execution_count": 7,
   "metadata": {},
   "outputs": [
    {
     "name": "stdout",
     "output_type": "stream",
     "text": [
      "New value of a: 2\n"
     ]
    }
   ],
   "source": [
    "a = 1\n",
    "\n",
    "# Modify a inplace\n",
    "a = 2 * a\n",
    "\n",
    "# Print the new value of a\n",
    "print(\"New value of a:\", a)\n"
   ]
  },
  {
   "cell_type": "markdown",
   "metadata": {},
   "source": [
    "Define a complex number `z` and print it as\n",
    "\n",
    "`(real=z.real, imag=z.imaginary)`"
   ]
  },
  {
   "cell_type": "code",
   "execution_count": 8,
   "metadata": {},
   "outputs": [
    {
     "name": "stdout",
     "output_type": "stream",
     "text": [
      "(real=3.0, imag=4.0)\n"
     ]
    }
   ],
   "source": [
    "z = complex(3, 4)  # 3 + 4i\n",
    "\n",
    "print(f\"(real={z.real}, imag={z.imag})\")"
   ]
  },
  {
   "cell_type": "markdown",
   "metadata": {},
   "source": [
    "## Strings\n"
   ]
  },
  {
   "cell_type": "markdown",
   "metadata": {},
   "source": [
    "Propose two ways to define an empty string"
   ]
  },
  {
   "cell_type": "code",
   "execution_count": 9,
   "metadata": {},
   "outputs": [],
   "source": [
    "empty_string_1 = \"\"\n",
    "empty_string_2 = ''\n"
   ]
  },
  {
   "cell_type": "markdown",
   "metadata": {},
   "source": [
    "Define a string made of the 26 letters of the alphabet (lower case), then\n",
    "- What is the 12th letter of the alphabet\n",
    "- What are the 10 last letters of the alphabet\n",
    "- What are the 5th to the 10th letters of the alphabet\n",
    "- Create a new string where the 26 letters are converted to upper case."
   ]
  },
  {
   "cell_type": "code",
   "execution_count": 13,
   "metadata": {},
   "outputs": [
    {
     "name": "stdout",
     "output_type": "stream",
     "text": [
      "12th letter: l\n",
      "Last 10 letters: qrstuvwxyz\n",
      "5th to 10th letters: efghij\n",
      "Uppercase alphabet: ABCDEFGHIJKLMNOPQRSTUVWXYZ\n"
     ]
    }
   ],
   "source": [
    "alphabet = 'abcdefghijklmnopqrstuvwxyz'\n",
    "\n",
    "letter_12 = alphabet[11]  # Attention on utilise ici l'index 11 pour la deuxième lettre car l'indexation commence à 0\n",
    "print(\"12th letter:\", letter_12)\n",
    "\n",
    "last_ten_letters = alphabet[-10:]  # Slicing from the 10th last element to the end\n",
    "print(\"Last 10 letters:\", last_ten_letters)\n",
    "\n",
    "fifth_to_tenth_letters = alphabet[4:10]  # Slicing from index 4 to 9\n",
    "# On va de l'index 4 (inclus) à 10 (exclu)\n",
    "print(\"5th to 10th letters:\", fifth_to_tenth_letters)\n",
    "\n",
    "alphabet_uppercase = alphabet.upper()\n",
    "print(\"Uppercase alphabet:\", alphabet_uppercase)\n"
   ]
  },
  {
   "cell_type": "markdown",
   "metadata": {},
   "source": [
    "Extract the first 4 digits of the number `x = 2341324530045968` (answer is `2341`)."
   ]
  },
  {
   "cell_type": "code",
   "execution_count": 14,
   "metadata": {},
   "outputs": [
    {
     "name": "stdout",
     "output_type": "stream",
     "text": [
      "2341\n"
     ]
    }
   ],
   "source": [
    "x = 2341324530045968\n",
    "first_four_digits = str(x)[:4]\n",
    "print(first_four_digits)\n"
   ]
  },
  {
   "cell_type": "markdown",
   "metadata": {},
   "source": [
    "## Lists"
   ]
  },
  {
   "cell_type": "markdown",
   "metadata": {},
   "source": [
    "Propose two ways to define an empty list."
   ]
  },
  {
   "cell_type": "code",
   "execution_count": 15,
   "metadata": {},
   "outputs": [],
   "source": [
    "empty_list_1 = []\n",
    "empty_list_2 = list()"
   ]
  },
  {
   "cell_type": "markdown",
   "metadata": {},
   "source": [
    "Create the list of consecutive integers from 5 to 11."
   ]
  },
  {
   "cell_type": "code",
   "execution_count": 21,
   "metadata": {},
   "outputs": [
    {
     "name": "stdout",
     "output_type": "stream",
     "text": [
      "[5, 6, 7, 8, 9, 10, 11]\n"
     ]
    }
   ],
   "source": [
    "consecutive_integers = list(range(5, 12))\n",
    "print(consecutive_integers)\n"
   ]
  },
  {
   "cell_type": "markdown",
   "metadata": {},
   "source": [
    "Add `100` to this list."
   ]
  },
  {
   "cell_type": "code",
   "execution_count": 22,
   "metadata": {},
   "outputs": [
    {
     "name": "stdout",
     "output_type": "stream",
     "text": [
      "[5, 6, 7, 8, 9, 10, 11, 100]\n"
     ]
    }
   ],
   "source": [
    "consecutive_integers.append(100)\n",
    "print(consecutive_integers)"
   ]
  },
  {
   "cell_type": "markdown",
   "metadata": {},
   "source": [
    "Given the following list, \n",
    "Change the `\"sdia\"` to its reverse (`\"aids\"`)."
   ]
  },
  {
   "cell_type": "code",
   "execution_count": 24,
   "metadata": {},
   "outputs": [
    {
     "name": "stdout",
     "output_type": "stream",
     "text": [
      "[10, [3, 4], [5, [100, 200, ['aids']], 23, 11], 1, 7]\n"
     ]
    }
   ],
   "source": [
    "x = [10, [3, 4], [5, [100, 200, [\"sdia\"]], 23, 11], 1, 7]\n",
    "\n",
    "# Replace \"sdia\" par \"aids\"\n",
    "x[2][1][2][0] = x[2][1][2][0][::-1]\n",
    "\n",
    "# Print the modified list\n",
    "print(x)\n"
   ]
  },
  {
   "cell_type": "markdown",
   "metadata": {},
   "source": [
    "Given the following list, \n",
    "\n",
    "  1. extract the first two items\n",
    "  2. extract the last two items\n",
    "  3. find the index of the first occurence of `9`\n",
    "  4. extract the items located at odd indices\n",
    "  5. create a new list which corresponds to the reversed version of the originial list\n",
    "  6. create a new list where each item of the original list is raised to the power 3"
   ]
  },
  {
   "cell_type": "code",
   "execution_count": 26,
   "metadata": {},
   "outputs": [
    {
     "name": "stdout",
     "output_type": "stream",
     "text": [
      "First two items: [3, 7]\n",
      "Last two items: [3, 1]\n",
      "Index of first occurrence of 9: 11\n",
      "Items at odd indices: [7, 3, 6, 8, 7, 9, 4, 7, 9, 0, 9, 9, 1, 0, 5, 8, 9, 5, 9, 6, 8, 2, 9, 2, 1]\n",
      "Reversed list: [1, 3, 2, 2, 9, 4, 2, 5, 8, 2, 6, 5, 9, 4, 5, 5, 9, 9, 8, 5, 5, 5, 0, 4, 1, 3, 9, 0, 9, 0, 0, 5, 9, 0, 7, 2, 4, 3, 9, 3, 7, 0, 8, 8, 6, 8, 3, 5, 7, 3]\n",
      "Cubed list: [27, 343, 125, 27, 512, 216, 512, 512, 0, 343, 27, 729, 27, 64, 8, 343, 0, 729, 125, 0, 0, 729, 0, 729, 27, 1, 64, 0, 125, 125, 125, 512, 729, 729, 125, 125, 64, 729, 125, 216, 8, 512, 125, 8, 64, 729, 8, 8, 27, 1]\n"
     ]
    }
   ],
   "source": [
    "x = [3, 7, 5, 3, 8, 6, 8, 8, 0, 7, 3, 9, 3, 4, 2, 7, 0, 9, 5, 0, 0, 9, 0, 9, 3, 1, 4, 0, 5, 5, 5, 8, 9, 9, 5, 5, 4, 9, 5, 6, 2, 8, 5, 2, 4, 9, 2, 2, 3, 1]\n",
    "\n",
    "# Extract the first two items\n",
    "first_two_items = x[:2]\n",
    "print(\"First two items:\", first_two_items)\n",
    "\n",
    "# Extract the last two items\n",
    "last_two_items = x[-2:]\n",
    "print(\"Last two items:\", last_two_items)\n",
    "\n",
    "# Find the index of the first occurrence of 9\n",
    "index_of_9 = x.index(9)\n",
    "print(\"Index of first occurrence of 9:\", index_of_9)\n",
    "\n",
    "# Extract the items located at odd indices\n",
    "items_at_odd_indices = x[1::2]\n",
    "print(\"Items at odd indices:\", items_at_odd_indices)\n",
    "\n",
    "# Create a new list which corresponds to the reversed version of the original list\n",
    "reversed_list = x[::-1]\n",
    "print(\"Reversed list:\", reversed_list)\n",
    "\n",
    "# Create a new list where each item of the original list is raised to the power 3\n",
    "cubed_list = [item**3 for item in x]\n",
    "print(\"Cubed list:\", cubed_list)"
   ]
  },
  {
   "cell_type": "markdown",
   "metadata": {},
   "source": [
    "## Tuples"
   ]
  },
  {
   "cell_type": "markdown",
   "metadata": {},
   "source": [
    "\n",
    "Propose two ways to define an empty tuple."
   ]
  },
  {
   "cell_type": "code",
   "execution_count": 27,
   "metadata": {},
   "outputs": [],
   "source": [
    "empty_tuple_1 = ()\n",
    "empty_tuple_2 = tuple()"
   ]
  },
  {
   "cell_type": "markdown",
   "metadata": {},
   "source": [
    "Given the following tuple\n",
    "- try to replace the second item (`4`) to `8`.\n",
    "- modify the list so that the second element of the first item is raised to the power 5 "
   ]
  },
  {
   "cell_type": "code",
   "execution_count": 29,
   "metadata": {},
   "outputs": [
    {
     "name": "stdout",
     "output_type": "stream",
     "text": [
      "([1, 32, 3], 4)\n"
     ]
    }
   ],
   "source": [
    "x = ([1, 2, 3], 4)\n",
    "\n",
    "# x[1] = 8  # This will result in an error because tuples are immutable\n",
    "\n",
    "x[0][1] **= 5\n",
    "\n",
    "# Print the modified tuple\n",
    "print(x)"
   ]
  },
  {
   "cell_type": "markdown",
   "metadata": {},
   "source": [
    "What is the main difference between a list and a tuple?"
   ]
  },
  {
   "attachments": {},
   "cell_type": "markdown",
   "metadata": {},
   "source": [
    "\n",
    "Les listes en Python sont modifiables, ce qui signifie qu'on peut ajouter, supprimer ou modifier des éléments après leur création. Les tuples, en revanche, sont immuables, ce qui signifie que leurs éléments ne peuvent pas être modifiés après leur création. Une fois qu'un tuple est défini, ses éléments ne peuvent pas être changés."
   ]
  },
  {
   "cell_type": "markdown",
   "metadata": {},
   "source": [
    "## Sets"
   ]
  },
  {
   "cell_type": "markdown",
   "metadata": {},
   "source": [
    "Create an empty set"
   ]
  },
  {
   "cell_type": "code",
   "execution_count": 30,
   "metadata": {},
   "outputs": [],
   "source": [
    "empty_set = set()\n",
    "\n",
    "# Autre version possible \n",
    "# empty_set_2 = {}\n"
   ]
  },
  {
   "cell_type": "markdown",
   "metadata": {},
   "source": [
    "Compute the intersection between $A = \\{1, 2, 3\\}$ and $B = \\{2, 4, 5, 6\\}$."
   ]
  },
  {
   "cell_type": "code",
   "execution_count": 31,
   "metadata": {},
   "outputs": [
    {
     "name": "stdout",
     "output_type": "stream",
     "text": [
      "{2}\n"
     ]
    }
   ],
   "source": [
    "A = {1, 2, 3}\n",
    "B = {2, 4, 5, 6}\n",
    "\n",
    "intersection_result = A & B\n",
    "\n",
    "print(intersection_result)"
   ]
  },
  {
   "cell_type": "markdown",
   "metadata": {},
   "source": [
    "From the following set\n",
    "- add the numbers 4, 5, 6\n",
    "- remove the numbers 1, 2, 3\n",
    "- check if the resulting set is contained in `{1, 2, 4, 5, 6, 10}` "
   ]
  },
  {
   "cell_type": "code",
   "execution_count": 33,
   "metadata": {},
   "outputs": [
    {
     "name": "stdout",
     "output_type": "stream",
     "text": [
      "Result after adding number 4,5,6: {0, 1, 2, 3, 4, 5, 6, 7, 8, 9, 10}\n",
      "Result after removing number 1,2,3: {0, 4, 5, 6, 7, 8, 9, 10}\n",
      "Resulting Set: {0, 4, 5, 6, 7, 8, 9, 10}\n",
      "Is Contained: False\n"
     ]
    }
   ],
   "source": [
    "x = {0, 1, 2, 3, 6, 7, 8, 9, 10}\n",
    "\n",
    "# Add the numbers 4, 5, 6\n",
    "x.update({4, 5, 6})\n",
    "print(\"Result after adding number 4,5,6:\", x)\n",
    "\n",
    "# Remove the numbers 1, 2, 3\n",
    "x -= {1, 2, 3}\n",
    "print(\"Result after removing number 1,2,3:\", x)\n",
    "\n",
    "# Check if the resulting set is contained in {1, 2, 4, 5, 6, 10}\n",
    "is_contained = x.issubset({1, 2, 4, 5, 6, 10})\n",
    "\n",
    "# Print the resulting set and the containment check\n",
    "print(\"Resulting Set:\", x)\n",
    "print(\"Is Contained:\", is_contained)"
   ]
  },
  {
   "cell_type": "markdown",
   "metadata": {},
   "source": [
    "## Dictionnaries"
   ]
  },
  {
   "cell_type": "markdown",
   "metadata": {},
   "source": [
    "Propose two ways to define an empty dictionary"
   ]
  },
  {
   "cell_type": "code",
   "execution_count": 34,
   "metadata": {},
   "outputs": [],
   "source": [
    "empty_dict_1 = {}\n",
    "empty_dict_2 = dict()"
   ]
  },
  {
   "cell_type": "markdown",
   "metadata": {},
   "source": [
    "Propose at least 3 ways to define a dictionary with \n",
    "- keys `(\"a\", \"b\", \"c\", \"d\")`\n",
    "- values `(1, 3, 5 , 7)`"
   ]
  },
  {
   "cell_type": "code",
   "execution_count": 35,
   "metadata": {},
   "outputs": [
    {
     "name": "stdout",
     "output_type": "stream",
     "text": [
      "First method {'a': 1, 'b': 3, 'c': 5, 'd': 7}\n",
      "Second method {'a': 1, 'b': 3, 'c': 5, 'd': 7}\n",
      "Third method {'a': 1, 'b': 3, 'c': 5, 'd': 7}\n"
     ]
    }
   ],
   "source": [
    "# First method\n",
    "my_dict_1 = {'a': 1, 'b': 3, 'c': 5, 'd': 7}\n",
    "print(\"First method\" , my_dict_1)\n",
    "\n",
    "# Second method\n",
    "keys = (\"a\", \"b\", \"c\", \"d\")\n",
    "values = (1, 3, 5, 7)\n",
    "\n",
    "my_dict_2 = dict(zip(keys, values))\n",
    "print(\"Second method\" , my_dict_2)\n",
    "\n",
    "# Third method\n",
    "keys = (\"a\", \"b\", \"c\", \"d\")\n",
    "values = (1, 3, 5, 7)\n",
    "\n",
    "my_dict_3 = {keys[i]: values[i] for i in range(len(keys))}\n",
    "print(\"Third method\" , my_dict_3)\n"
   ]
  },
  {
   "cell_type": "markdown",
   "metadata": {},
   "source": [
    "Given the following dictionary, use indexing to get to the word `\"sdia\"`"
   ]
  },
  {
   "cell_type": "code",
   "execution_count": 36,
   "metadata": {},
   "outputs": [
    {
     "name": "stdout",
     "output_type": "stream",
     "text": [
      "sdia\n"
     ]
    }
   ],
   "source": [
    "d = {\n",
    "    \"outer\": [\n",
    "        1,\n",
    "        2,\n",
    "        3,\n",
    "        {\"inner\": [\"this\", \"is\", \"inception\", {\"inner_inner\": [1, 2, 3, \"sdia\"]}]},\n",
    "    ]\n",
    "}\n",
    "\n",
    "word = d[\"outer\"][3][\"inner\"][3][\"inner_inner\"][3]\n",
    "\n",
    "print(word)"
   ]
  },
  {
   "cell_type": "markdown",
   "metadata": {},
   "source": [
    "From the following dictionary,\n",
    "- Create the list of keys\n",
    "- Create the list of values\n",
    "- Check if the key `\"abc\"` is present, if not, return `123`.\n",
    "- Merge the initial dictionary with `{\"e\": -1, 4: True}`"
   ]
  },
  {
   "cell_type": "code",
   "execution_count": 37,
   "metadata": {},
   "outputs": [
    {
     "name": "stdout",
     "output_type": "stream",
     "text": [
      "List of Keys: [(0, 1), 'e', 1, None]\n",
      "List of Values: ['abc', 4, None, (1+2j)]\n",
      "Value of 'abc' or 123 if not present: 123\n",
      "Merged Dictionary: {(0, 1): 'abc', 'e': -1, 1: None, None: (1+2j), 4: True}\n"
     ]
    }
   ],
   "source": [
    "d1 = dict(zip([(0, 1), \"e\", 1, None], [\"abc\", 4, None, 1 + 2j]))\n",
    "\n",
    "# Create the list of keys\n",
    "keys = list(d1.keys())\n",
    "print(\"List of Keys:\", keys)\n",
    "\n",
    "# Create the list of values\n",
    "values = list(d1.values())\n",
    "print(\"List of Values:\", values)\n",
    "\n",
    "# Check if the key \"abc\" is present, if not, return 123\n",
    "value_of_abc = d1.get(\"abc\", 123)\n",
    "print(\"Value of 'abc' or 123 if not present:\", value_of_abc)\n",
    "\n",
    "# Merge the initial dictionary with {\"e\": -1, 4: True}\n",
    "d2 = {\"e\": -1, 4: True}\n",
    "merged_dict = {**d1, **d2}\n",
    "print(\"Merged Dictionary:\", merged_dict)"
   ]
  },
  {
   "cell_type": "markdown",
   "metadata": {},
   "source": [
    "## Conditions"
   ]
  },
  {
   "cell_type": "markdown",
   "metadata": {},
   "source": [
    "Propose two ways to construct the list of odd values ranging from 0 to 30"
   ]
  },
  {
   "cell_type": "code",
   "execution_count": 38,
   "metadata": {},
   "outputs": [
    {
     "name": "stdout",
     "output_type": "stream",
     "text": [
      "[1, 3, 5, 7, 9, 11, 13, 15, 17, 19, 21, 23, 25, 27, 29]\n",
      "[1, 3, 5, 7, 9, 11, 13, 15, 17, 19, 21, 23, 25, 27, 29]\n"
     ]
    }
   ],
   "source": [
    "odd_values_1 = [x for x in range(31) if x % 2 != 0]\n",
    "print(odd_values_1)\n",
    "odd_values_2 = list(range(1, 31, 2))\n",
    "print(odd_values_2)"
   ]
  },
  {
   "cell_type": "markdown",
   "metadata": {},
   "source": [
    "From the following list, create another list which contains\n",
    "- `\"fiz\"` if the item is a multiple of 5,\n",
    "- `\"buz\"` if the item is a multiple of 7,\n",
    "- `\"fizbuz\"` if the item is a both a multiple of 5 and 7,\n",
    "- the index of the item otherwise."
   ]
  },
  {
   "cell_type": "code",
   "execution_count": 39,
   "metadata": {},
   "outputs": [
    {
     "name": "stdout",
     "output_type": "stream",
     "text": [
      "[0, 1, 2, 3, 'fizbuz', 'fiz', 'fizbuz', 7, 8, 'buz']\n"
     ]
    }
   ],
   "source": [
    "x = [2, 1, 3, 31, 35, 20, 70, 132, 144, 49]\n",
    "\n",
    "result_list = [\n",
    "    \"fizbuz\" if (num % 5 == 0) and (num % 7 == 0) else\n",
    "    \"fiz\" if num % 5 == 0 else\n",
    "    \"buz\" if num % 7 == 0 else\n",
    "    index\n",
    "    for index, num in enumerate(x)\n",
    "]\n",
    "\n",
    "print(result_list)\n"
   ]
  },
  {
   "cell_type": "markdown",
   "metadata": {},
   "source": [
    "Given a string variable `course`, construct a `if/elif/else` statement that prints:\n",
    "- `\"That is very useful!\"` if `course` is `\"maths\"` (any kind of capitalization)\n",
    "- `\"That is very useful!\"` if `course` is `\"python\"` (any kind of capitalization)\n",
    "- `\"How nice!\"` if `course` is `\"meditation\"` (any kind of capitalization)\n",
    "- `\"You're not at Hogwarts\"` if `course` is `\"magic\"` (any kind of capitalization)\n",
    "- otherwise `\"What is this COURSE?\"` if `course` is anything else."
   ]
  },
  {
   "cell_type": "code",
   "execution_count": 40,
   "metadata": {},
   "outputs": [
    {
     "name": "stdout",
     "output_type": "stream",
     "text": [
      "That is very useful!\n"
     ]
    }
   ],
   "source": [
    "course = \"Python\" # On peut modifier la valeur pour gérer l'affichage\n",
    "\n",
    "if course.lower() == \"maths\" or course.lower() == \"python\":\n",
    "    print(\"That is very useful!\")\n",
    "elif course.lower() == \"meditation\":\n",
    "    print(\"How nice!\")\n",
    "elif course.lower() == \"magic\":\n",
    "    print(\"You're not at Hogwarts\")\n",
    "else:\n",
    "    print(\"What is this COURSE?\")\n"
   ]
  },
  {
   "cell_type": "markdown",
   "metadata": {},
   "source": [
    "Given the following variables, create and print the string\n",
    "\n",
    "``quantity`` ``fruit``(s) cost(s) $``price``\n",
    "\n",
    "such that\n",
    "- there is an `\"s\"` at `\"cost\"` when there is more only one fruit,\n",
    "- there is an `\"s\"` at `\"fruit\"` when there is more that one fruit,\n",
    "- the price is displayed as ...,xxx,xxx.yy where yy corresponds rounded cents value"
   ]
  },
  {
   "cell_type": "code",
   "execution_count": 43,
   "metadata": {},
   "outputs": [
    {
     "name": "stdout",
     "output_type": "stream",
     "text": [
      "1 avocado costs $18,912.39\n"
     ]
    }
   ],
   "source": [
    "quantity = 1\n",
    "fruit = \"avocado\"\n",
    "price = 1.8912392e4\n",
    "\n",
    "# Format the price\n",
    "formatted_price = f'{price:,.2f}'\n",
    "\n",
    "# Construct and print the string\n",
    "result_string = f\"{quantity} {fruit}{'s' if quantity > 1 else ''} cost{'s' if quantity == 1 else ''} ${formatted_price}\"\n",
    "print(result_string)\n"
   ]
  },
  {
   "cell_type": "markdown",
   "metadata": {},
   "source": [
    "## Functions"
   ]
  },
  {
   "cell_type": "markdown",
   "metadata": {},
   "source": [
    "Define the function `is_unique(x)` which takes a list of integers `x` as input and returns `True` if the there is no duplicate items otherwise return `False`."
   ]
  },
  {
   "cell_type": "code",
   "execution_count": 46,
   "metadata": {},
   "outputs": [
    {
     "name": "stdout",
     "output_type": "stream",
     "text": [
      "True\n",
      "False\n"
     ]
    }
   ],
   "source": [
    "def is_unique(x):\n",
    "    for i in range(len(x)):\n",
    "        for j in range(i+1, len(x)):\n",
    "            if x[i] == x[j]:\n",
    "                return False\n",
    "    return True\n",
    "\n",
    "# On peut aussi utiliser la fonction set pour créér un ensemble unique de la liste et vérifier si les longueurs entre x et set(x) sont égales\n",
    "\n",
    "# Example\n",
    "list_1 = [1, 2, 3, 4, 5] # return true\n",
    "list_2 = [1, 2, 2, 3, 4] # return false\n",
    "\n",
    "print(is_unique(list_1))\n",
    "print(is_unique(list_2)) \n",
    "\n"
   ]
  },
  {
   "cell_type": "markdown",
   "metadata": {},
   "source": [
    "Define a function `triangle_shape(height)`, that returns \n",
    "- `\"\"` if `height=0`, \n",
    "- otherwise it returns a string that forms a triangle with height prescribed by `height`.\n",
    "\n",
    "**Examples**\n",
    "\n",
    "height=1\n",
    "```\n",
    "x\n",
    "```\n",
    "\n",
    "height=2\n",
    "```\n",
    " x \n",
    "xxx\n",
    "```\n",
    "\n",
    "height=3\n",
    "```\n",
    "  x  \n",
    " xxx \n",
    "xxxxx\n",
    "```\n",
    "\n",
    "height=4\n",
    "```\n",
    "   x   \n",
    "  xxx  \n",
    " xxxxx \n",
    "xxxxxxx\n",
    "```\n",
    "\n",
    "height=5\n",
    "```\n",
    "    x    \n",
    "   xxx   \n",
    "  xxxxx  \n",
    " xxxxxxx \n",
    "xxxxxxxxx\n",
    "```\n",
    "\n",
    "height=6\n",
    "```\n",
    "     x     \n",
    "    xxx    \n",
    "   xxxxx   \n",
    "  xxxxxxx  \n",
    " xxxxxxxxx \n",
    "xxxxxxxxxxx\n",
    "```"
   ]
  },
  {
   "cell_type": "code",
   "execution_count": 48,
   "metadata": {},
   "outputs": [
    {
     "name": "stdout",
     "output_type": "stream",
     "text": [
      "Triangle  0 :\n",
      "\n",
      "Triangle  1 :\n",
      "x\n",
      "Triangle  2 :\n",
      " x \n",
      "xxx\n",
      "Triangle  3 :\n",
      "  x  \n",
      " xxx \n",
      "xxxxx\n",
      "Triangle  4 :\n",
      "   x   \n",
      "  xxx  \n",
      " xxxxx \n",
      "xxxxxxx\n",
      "Triangle  5 :\n",
      "    x    \n",
      "   xxx   \n",
      "  xxxxx  \n",
      " xxxxxxx \n",
      "xxxxxxxxx\n",
      "Triangle  6 :\n",
      "     x     \n",
      "    xxx    \n",
      "   xxxxx   \n",
      "  xxxxxxx  \n",
      " xxxxxxxxx \n",
      "xxxxxxxxxxx\n"
     ]
    }
   ],
   "source": [
    "def triangle_shape(height):\n",
    "    if height == 0:\n",
    "        return \"\"\n",
    "    else:\n",
    "        triangle = \"\"\n",
    "        for i in range(height):\n",
    "            spaces = \" \" * (height - i - 1)\n",
    "            stars = \"x\" * (2 * i + 1)\n",
    "            triangle += spaces + stars + spaces + \"\\n\"\n",
    "        return triangle.rstrip() \n",
    "    \n",
    "# Example Usage\n",
    "for height in range(7):\n",
    "    print(\"Triangle \", height, \":\")\n",
    "    print(triangle_shape(height))\n"
   ]
  }
 ],
 "metadata": {
  "kernelspec": {
   "display_name": "Python 3.8.10 64-bit",
   "language": "python",
   "name": "python3"
  },
  "language_info": {
   "codemirror_mode": {
    "name": "ipython",
    "version": 3
   },
   "file_extension": ".py",
   "mimetype": "text/x-python",
   "name": "python",
   "nbconvert_exporter": "python",
   "pygments_lexer": "ipython3",
   "version": "3.8.1"
  },
  "orig_nbformat": 4,
  "vscode": {
   "interpreter": {
    "hash": "916dbcbb3f70747c44a77c7bcd40155683ae19c65e1c03b4aa3499c5328201f1"
   }
  }
 },
 "nbformat": 4,
 "nbformat_minor": 2
}
